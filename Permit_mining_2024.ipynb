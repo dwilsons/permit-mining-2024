{
 "cells": [
  {
   "cell_type": "code",
   "execution_count": 37,
   "metadata": {},
   "outputs": [],
   "source": [
    "import pandas as pd\n",
    "import re\n",
    "import glob\n",
    "# import math\n",
    "# import string\n",
    "\n",
    "from math import nan\n",
    "from string import digits"
   ]
  },
  {
   "cell_type": "markdown",
   "metadata": {},
   "source": [
    "Loading data"
   ]
  },
  {
   "cell_type": "code",
   "execution_count": null,
   "metadata": {},
   "outputs": [],
   "source": [
    "# df = pd.read_csv(\"RESINTEL_ENERGYSOLUTIONS_2_BUILDINGPERMIT_0002.txt\", delimiter='\\t',encoding='latin-1')\n",
    "df = pd.read_csv('Permit Mining Results Sept2024.csv')\n",
    "columns = list(df)\n",
    "df.info()"
   ]
  },
  {
   "cell_type": "code",
   "execution_count": 105,
   "metadata": {},
   "outputs": [],
   "source": [
    "df = df.drop(columns=['combined_column', 'Existing Amp', 'Upgrade Amp'])"
   ]
  },
  {
   "cell_type": "code",
   "execution_count": 106,
   "metadata": {},
   "outputs": [],
   "source": [
    "# formatting description for mining\n",
    "df['Description'] = df['Description'].astype(str)\n",
    "df['Description'] = df['Description'].apply(lambda x: re.sub(r'[^\\w\\s]', '', x))"
   ]
  },
  {
   "cell_type": "markdown",
   "metadata": {},
   "source": [
    "The next cell is big but fairly straightforward. It contains the word lists for mining different upgrades as well as all the necessary functions. However, it is built around two versions, one which is the full mining process from the older permit mining code, while the other is only for mining upgrades I added."
   ]
  },
  {
   "cell_type": "code",
   "execution_count": 84,
   "metadata": {},
   "outputs": [],
   "source": [
    "# all upgrade word pairs\n",
    "product_categories = {\n",
    "    'Solar PV': ['solar', 'pv', 'photovoltaic', 'photo voltaic', 'solar panel', 'solar module','inverter','rooftop','ground mount','optimizer'],\n",
    "    'Battery storage': ['battery', 'energy storage', 'storage system','powerwall','LG Chem','batt','enphase'],\n",
    "    'Electric Vehicle Charger': ['ev charger', 'evse', 'electric vehicle charger', 'electric car charger',\n",
    "                                'charger','evc','electric vehicle','level 2','charge','charging','station', 'ev'],\n",
    "    'Electrical Panel Upgrade': ['panel upgrade', 'circuit breaker','load center', 'electrical service upgrade', 'service panel',\n",
    "                                'breaker','subpanel','derate','mpu','msp','main panel'],\n",
    "    'Transformer': ['transformer', 'power transformer', 'distribution transformer'],\n",
    "    'Water Heater': ['water heater'],\n",
    "    'Cool Roof': ['cool roof'],\n",
    "    'Kitchen Remodel': ['kitchen remodel', 'remodel kitchen', 'kitchen bathroom remodel'],\n",
    "    'Bathroom Remodel': ['bathroom remodel', 'remodel bathroom', 'restroom remodel', 'remodel restroom',\n",
    "                         'bathroom kitchen remodel', 'ada restroom', 'ada bathroom'],\n",
    "    'AC': ['hvac', 'air conditioning'],\n",
    "    'Reroof': ['reroof', 'roof install', 'roof replacement'],\n",
    "    'Spa/Pool': ['spa', 'pool'],\n",
    "    'Addition': ['sqft addition', 'square foot addition', 'room addition', 'story addition', 'attach garage', 'new garage'],\n",
    "    'Lighting Install': ['install light', 'light fixtures'],\n",
    "    'Other Remodel': ['interior remodel', 'bedroom remodel', 'bedroom bathroom remodel', 'remodel interior',\n",
    "                      'remodel bedroom', 'remodel bathroom bedroom'],\n",
    "    'Wall Heater': ['wall heater', 'wall furnace', 'block wall'],\n",
    "    'Tankless Water Heater': ['tankless'],\n",
    "    'Fire Damage': ['fire damage', 'burn damage', 'fire repair'],\n",
    "    'Windows': ['window size', 'windows size', 'window install', 'windows install', 'fenestration', 'retrofit windows'],\n",
    "    'Smoke Detectors': ['smoke detectors', 'fire alarm'],\n",
    "    'Carbon Monoxide Detector': ['carbon monoxide', 'co detector', 'monoxide detector'],\n",
    "    'Ductwork': ['duct'],\n",
    "    'Gas Furnace': ['gas furnace', 'gas line', 'install furnace'],\n",
    "    'Dishwasher': ['dishwasher replacement', 'new dishwasher', 'dishwasher install', 'install dishwasher'],\n",
    "    'Washing Machine': ['washer dryer', 'washer/dryer'],\n",
    "    'Dryer': ['dryer replacement', 'new dryer', 'dryer install', 'washer dryer', 'washer/dryer'],\n",
    "    'Elevator': ['elevator'],\n",
    "    'Skylight': ['install skylight', 'skylight addition', 'roof skylight']\n",
    "\n",
    "}\n",
    "\n",
    "# upgrade word pairs only for new upgrades\n",
    "new_product_categories = {\n",
    "    'Water Heater': ['water heater'],\n",
    "    'Cool Roof': ['cool roof'],\n",
    "    'Kitchen Remodel': ['kitchen remodel', 'remodel kitchen', 'kitchen bathroom remodel'],\n",
    "    'Bathroom Remodel': ['bathroom remodel', 'remodel bathroom', 'restroom remodel', 'remodel restroom',\n",
    "                         'bathroom kitchen remodel', 'ada restroom', 'ada bathroom'],\n",
    "    'AC': ['hvac', 'air conditioning'],\n",
    "    'Reroof': ['reroof', 'roof install', 'roof replacement'],\n",
    "    'Spa/Pool': ['spa', 'pool'],\n",
    "    'Addition': ['sqft addition', 'square foot addition', 'room addition', 'story addition', 'attach garage', 'new garage'],\n",
    "    'Lighting Install': ['install light', 'light fixtures'],\n",
    "    'Other Remodel': ['interior remodel', 'bedroom remodel', 'bedroom bathroom remodel', 'remodel interior',\n",
    "                      'remodel bedroom', 'remodel bathroom bedroom'],\n",
    "    'Wall Heater': ['wall heater', 'wall furnace', 'block wall'],\n",
    "    'Tankless Water Heater': ['tankless'],\n",
    "    'Fire Damage': ['fire damage', 'burn damage', 'fire repair'],\n",
    "    'Windows': ['window size', 'windows size', 'window install', 'windows install', 'fenestration', 'retrofit windows'],\n",
    "    'Smoke Detectors': ['smoke detectors', 'fire alarm'],\n",
    "    'Carbon Monoxide Detector': ['carbon monoxide', 'co detector', 'monoxide detector'],\n",
    "    'Ductwork': ['duct'],\n",
    "    'Gas Furnace': ['gas furnace', 'gas line', 'install furnace'],\n",
    "    'Dishwasher': ['dishwasher replacement', 'new dishwasher', 'dishwasher install', 'install dishwasher'],\n",
    "    'Washing Machine': ['washer dryer', 'washer/dryer'],\n",
    "    'Dryer': ['dryer replacement', 'new dryer', 'dryer install', 'washer dryer', 'washer/dryer'],\n",
    "    'Elevator': ['elevator'],\n",
    "    'Skylight': ['install skylight', 'skylight addition', 'roof skylight']\n",
    "}\n",
    "\n",
    "test_categories = {\n",
    "    'Electrical Panel Upgrade': ['panel upgrade', 'circuit breaker','load center', 'electrical service upgrade', 'service panel',\n",
    "                                'breaker','subpanel','derate','mpu','msp','main panel']\n",
    "}\n",
    "\n",
    "# OLD FUNCTIONS START HERE\n",
    "def classify_product(description):\n",
    "    categories = product_categories\n",
    "    if isinstance(description, float):\n",
    "        description = str(description)\n",
    "    # initialize a dictionary to store the boolean flags for each product category in the description\n",
    "    category_flags = {category: False for category in categories}\n",
    "\n",
    "    # check if any of the keywords for each product category is present in the description\n",
    "    for category, keywords in categories.items():\n",
    "        for keyword in keywords:\n",
    "            if keyword.lower() in description.lower():\n",
    "                category_flags[category] = True\n",
    "\n",
    "    # check if \"A\" is present together with a number greater than 100 in the same sentence\n",
    "    if re.search(r'\\b(\\d{3,}A)\\b', description, re.IGNORECASE):\n",
    "        category_flags['Electrical Panel Upgrade'] = True\n",
    "    # check if 'kW' is present along with a number or as is\n",
    "    if re.search(r'\\b(\\d+\\.?\\d*)\\s*kW\\b', description, re.IGNORECASE) and ('panel' in description.lower() or 'solar' in description.lower()):\n",
    "        category_flags['Solar PV'] = True\n",
    "        # check if 'ess' is present for 'Battery storage' category\n",
    "    if re.search(r'\\bess\\b', description, re.IGNORECASE):\n",
    "        category_flags['Battery storage'] = True\n",
    "\n",
    "    # check if 'panel' appears in the description of 'Solar PV' category and ensure 'solar' is also present\n",
    "    if 'panel' in description.lower() and 'solar' in description.lower():\n",
    "        category_flags['Solar PV'] = True\n",
    "    if 'panel' in description.lower() and 'amp' in description.lower():\n",
    "        category_flags['Electrical Panel Upgrade'] = True\n",
    "        # check if 'panel' appears in the description of 'Solar PV' category and ensure 'solar' is also present\n",
    "    if 'tesla' in description.lower() and 'batt' in description.lower():\n",
    "        category_flags['Battery storage'] = True\n",
    "\n",
    "# check if 'tesla' appears and ensure 'charger' is also present for 'Electric Vehicle Charger' category\n",
    "    if 'tesla' in description.lower() and ('station' in description.lower() or 'electric' in description.lower() or 'ev' in description.lower() or 'charge' in description.lower() or 'vehicle' in description.lower()):\n",
    "        category_flags['Electric Vehicle Charger'] = True\n",
    "    # check if 'derate' is present in the description\n",
    "    if 'derate' in description.lower():\n",
    "        category_flags['derate'] = True\n",
    "    if 'de-rate' in description.lower():\n",
    "        category_flags['derate'] = True\n",
    "    # check if 'upgrade' is present in the description\n",
    "    if 'upgrade' in description.lower():\n",
    "        category_flags['upgrade'] = True\n",
    "    \n",
    "\n",
    "    return category_flags\n",
    "\n",
    "def extract_number_before_word(text, word):\n",
    "    pattern = fr\"(\\d+(?:\\.\\d+)?)\\s*{word}\"\n",
    "    match = re.search(pattern, text, re.IGNORECASE)\n",
    "    if match:\n",
    "        return float(match.group(1).strip().replace(',', '.'))\n",
    "    return None\n",
    "# OLD FUNCTIONS END HERE\n",
    "\n",
    "# this is a simple function to mine for certain new upgrades. It can use any new set of upgrade-word pairs\n",
    "# as defined in the 'new_product_categories' dictionary. Takes a single description, returns dictionary of upgrade flags.\n",
    "def classify_product_new(description):\n",
    "    if isinstance(description, float):\n",
    "        description = str(description)\n",
    "    # initialize a dictionary to store the boolean flags for each product category in the description\n",
    "    category_flags = {category: 0 for category in new_product_categories}\n",
    "\n",
    "    # check if any of the keywords for each product category is present in the description\n",
    "    for category, keywords in new_product_categories.items():\n",
    "        for keyword in keywords:\n",
    "            if keyword.lower() in description.lower():\n",
    "                category_flags[category] = 1\n",
    "\n",
    "    return category_flags"
   ]
  },
  {
   "cell_type": "markdown",
   "metadata": {},
   "source": [
    "First, permits are mined for specific upgrades with the code below"
   ]
  },
  {
   "cell_type": "code",
   "execution_count": null,
   "metadata": {},
   "outputs": [],
   "source": [
    "# apply the classify_product function to each description in the dataframe\n",
    "df = pd.concat([df, pd.DataFrame(list(df['Description'].apply(classify_product)))], axis=1)\n",
    "df.head()"
   ]
  },
  {
   "cell_type": "code",
   "execution_count": 86,
   "metadata": {},
   "outputs": [],
   "source": [
    "# Extract numbers before 'kwh' and create a new column\n",
    "df['kwH'] = df['Description'].apply(lambda x: extract_number_before_word(x, 'kwh'))\n",
    "\n",
    "# Extract numbers before 'kw' and create a new column\n",
    "df['kw'] = df['Description'].apply(lambda x: extract_number_before_word(x, 'kw'))"
   ]
  },
  {
   "cell_type": "code",
   "execution_count": null,
   "metadata": {},
   "outputs": [],
   "source": [
    "df['kwH_final'] = df.apply(lambda row: '' if row['Solar PV'] and row['kwH'] == row['kw'] else row['kwH'], axis=1)\n",
    "df['kw_final'] = df.apply(lambda row: '' if row['Battery storage'] and row['kwH'] == row['kw'] else row['kw'], axis=1)\n",
    "df.loc[df['Solar PV'] == False, 'kw'] = ''\n",
    "df.loc[df['Battery storage'] == False, 'kwH'] = ''\n",
    "df.head()"
   ]
  },
  {
   "cell_type": "code",
   "execution_count": 88,
   "metadata": {},
   "outputs": [],
   "source": [
    "df.to_csv('SDGEPermitDataRough.csv')"
   ]
  },
  {
   "cell_type": "markdown",
   "metadata": {},
   "source": [
    "Code specifically for panel amp predictions starts here"
   ]
  },
  {
   "cell_type": "code",
   "execution_count": 107,
   "metadata": {},
   "outputs": [],
   "source": [
    "Existing = ['from', 'existing']\n",
    "Upgrade = ['to', 'new', 'upgrade', 'derate', 'downsized']\n",
    "\n",
    "select = [Existing, Upgrade]\n",
    "first = [[Existing[0]], [Upgrade[0:2]]]\n",
    "\n",
    "def extract_numbers_AMP(text, word):\n",
    "    pattern = fr\"(\\d+(?:\\.\\d+)?)\\s*{word}\"\n",
    "    matches = re.findall(pattern, text, re.IGNORECASE)\n",
    "    if matches:\n",
    "        return [float(match.strip()) for match in matches]\n",
    "    return None\n",
    "\n",
    "def extract_all_numbers_before_A(text):\n",
    "    pattern = r\"(\\d+(?:\\.\\d+)?)\\s*A\\b\"\n",
    "    matches = re.findall(pattern, text, re.IGNORECASE)\n",
    "    if matches:\n",
    "        return [float(match.strip()) for match in matches]\n",
    "    return None\n",
    "\n",
    "def get_number(value):\n",
    "    for i in range(0, len(value)):\n",
    "        if value[i] not in digits:\n",
    "            return value[:i]\n",
    "    return value\n",
    "\n",
    "def amp_predictor(description, version):\n",
    "    result = nan\n",
    "    words = description.split()\n",
    "    for i in range(0, len(words)):\n",
    "        curr = words[i]\n",
    "        if curr in select[version]:\n",
    "            if curr in first[version] and i < len(words)-1:\n",
    "                if words[i+1][0] in digits:\n",
    "                    result = get_number(words[i+1])\n",
    "            else:\n",
    "                if i < len(words)-1:\n",
    "                    if words[i+1][0] in digits:\n",
    "                        result = get_number(words[i+1])\n",
    "                elif i > 0:\n",
    "                    if words[i-1][0] in digits:\n",
    "                        result = get_number(words[i-1])\n",
    "        \n",
    "    return float(result)\n",
    "\n",
    "def fill_predictions(row):\n",
    "    options = row['combined_column']\n",
    "    e = row['E']\n",
    "    u = row['U']\n",
    "    result = {'Existing Amp': e, 'Upgrade Amp': u}\n",
    "    if options == '' or options == None:\n",
    "        return result\n",
    "    description = row['Description']\n",
    "    if len(options) == 1:\n",
    "        result['Upgrade Amp'] = options[0]\n",
    "    if len(options) == 2 and 'upgrade' in description:\n",
    "        if (options[0] == options[1]):\n",
    "            result['Upgrade Amp'] = options[0]\n",
    "        else:\n",
    "            result['Upgrade Amp'] = max(options[0], options[1])\n",
    "    return result"
   ]
  },
  {
   "cell_type": "code",
   "execution_count": null,
   "metadata": {},
   "outputs": [],
   "source": [
    "# Extract numbers before Amp, A, and create new columns\n",
    "df['Amp_2'] = df['Description'].apply(lambda x: extract_numbers_AMP(x, 'Amp'))\n",
    "df['A_2'] = df['Description'].apply(extract_all_numbers_before_A)\n",
    "df['combined_column'] = df['Amp_2'].fillna(df['A_2'])\n",
    "df.loc[df['Electrical Panel Upgrade'] == False, 'combined_column'] = ''\n",
    "df.head()"
   ]
  },
  {
   "cell_type": "code",
   "execution_count": null,
   "metadata": {},
   "outputs": [],
   "source": [
    "df['E'] = df['Description'].apply(lambda x: amp_predictor(x, 0))\n",
    "df['U'] = df['Description'].apply(lambda x: amp_predictor(x, 1))\n",
    "df.loc[df['Electrical Panel Upgrade'] == False, 'E'] = nan\n",
    "df.loc[df['Electrical Panel Upgrade'] == False, 'U'] = nan\n",
    "df.head()"
   ]
  },
  {
   "cell_type": "code",
   "execution_count": null,
   "metadata": {},
   "outputs": [],
   "source": [
    "amp_data = pd.DataFrame(list(df.apply(lambda x: fill_predictions(x), axis=1)))\n",
    "\n",
    "df_result = pd.concat([df, amp_data], axis=1)\n",
    "epu_result = df_result[df['Electrical Panel Upgrade'] == True]\n",
    "epu_result.head()"
   ]
  },
  {
   "cell_type": "code",
   "execution_count": 81,
   "metadata": {},
   "outputs": [],
   "source": [
    "epu_result.to_csv('Panel upgrade data.csv')"
   ]
  },
  {
   "cell_type": "code",
   "execution_count": null,
   "metadata": {},
   "outputs": [],
   "source": [
    "clean_df = df_result.drop(columns=['Amp_2', 'A_2', 'combined_column', 'E', 'U'])\n",
    "clean_df.head()"
   ]
  },
  {
   "cell_type": "code",
   "execution_count": 112,
   "metadata": {},
   "outputs": [],
   "source": [
    "clean_df.to_csv('Permit Mining Results Sept2024.csv')"
   ]
  },
  {
   "cell_type": "markdown",
   "metadata": {},
   "source": [
    "Simple version if you only want to add new upgrades or upgrades with expanded word lists:"
   ]
  },
  {
   "cell_type": "code",
   "execution_count": null,
   "metadata": {},
   "outputs": [],
   "source": [
    "df['Description'] = df['Description'].astype(str)\n",
    "\n",
    "# splitting dataframe so the data we're adding goes in the right spot\n",
    "front = df[columns[:62]]\n",
    "back = df[columns[62:]]\n",
    "\n",
    "# goes through every description, mines upgrades, then takes all results and makes new DF\n",
    "insert = pd.DataFrame(list(df['Description'].apply(classify_product_new)))\n",
    "\n",
    "# putting everything together for new permit data result\n",
    "new_df = pd.concat([front, insert, back], axis=1)\n",
    "new_df.head()"
   ]
  },
  {
   "cell_type": "code",
   "execution_count": 7,
   "metadata": {},
   "outputs": [],
   "source": [
    "new_df.to_csv('filename.csv')"
   ]
  },
  {
   "cell_type": "markdown",
   "metadata": {},
   "source": [
    "The next section is to add property data + use codes which makes the process of splitting the data by property and then by use codes significantly easier. Also makes calculating age, years since sale, etc. all easier."
   ]
  },
  {
   "cell_type": "markdown",
   "metadata": {},
   "source": [
    "Functions"
   ]
  },
  {
   "cell_type": "code",
   "execution_count": 96,
   "metadata": {},
   "outputs": [],
   "source": [
    "# Function to connect all address parts into a single string for comparison since\n",
    "# permit data contains full addresses but use code data does not. Takes row (property) as input,\n",
    "# returns address (in lowercase) as a string.\n",
    "def addr_full(row):\n",
    "    address = ''\n",
    "    number = str(row['SITE_HOUSE_NUMBER'])\n",
    "    direction = str(row['SITE_DIRECTION'])\n",
    "    street = str(row['SITE_STREET_NAME'])\n",
    "    mode = str(row['SITE_MODE'])\n",
    "    if number != 'nan':\n",
    "        index = number.find('.')\n",
    "        if index != -1:\n",
    "            number = number[:index]\n",
    "        address += number\n",
    "    if direction != 'nan':\n",
    "        address = address + ' ' + direction\n",
    "    if street != 'nan':\n",
    "        address = address + ' ' + street\n",
    "    if mode != 'nan':\n",
    "        address = address + ' ' + mode\n",
    "    return address.lower()\n",
    "\n",
    "# Function to handle addresses containing unit numbers, which aren't in the use code data (all units kept together)\n",
    "# Takes permit and constructs partial address, returning it as a string\n",
    "def addr_partial(row):\n",
    "    address = ''\n",
    "    number = str(row['PropertyAddressAddressHouseNumber'])\n",
    "    direction = str(row['PropertyAddressAddressStreetDirection'])\n",
    "    street = str(row['PropertyAddressAddressStreetName'])\n",
    "    s_suffix = str(row['PropertyAddressAddressStreetSuffix'])\n",
    "    spd = str(row['PropertyAddressAddressStreetPostDirection'])\n",
    "    if number != 'nan':\n",
    "        index = number.find('.')\n",
    "        if index != -1:\n",
    "            number = number[:index]\n",
    "        address += number\n",
    "    if direction != 'nan':\n",
    "        address = address + ' ' + direction\n",
    "    if street != 'nan':\n",
    "        address = address + ' ' + street\n",
    "    if s_suffix != 'nan':\n",
    "        address = address + ' ' + s_suffix\n",
    "    if spd != 'nan':\n",
    "        address = address + ' ' + spd\n",
    "    return address.lower()\n",
    "\n",
    "# Builds dictionary of property -> property data pairs\n",
    "def build_dict(pathname, prop_dict, version):\n",
    "    county_df = pd.read_csv(pathname)\n",
    "    for index, row in county_df.iterrows():\n",
    "        if version == 0:\n",
    "            address = addr_full(row)\n",
    "            prop_dict[address] = row\n",
    "        elif version == 1:\n",
    "            prop_dict[row['MASTER_PARCEL_APN']] = row\n",
    "\n",
    "# gets property data from dictionary, with an addtional check to get rid of unit/apartment numbers. \n",
    "# uncomment use code lines & add back to 'cat' list, commented  out\n",
    "# because they were already added using an earlier version of this function.\n",
    "def get_prop_data(row, propdict):\n",
    "    cat = ['Last Sale Date', 'Year Built', 'APN']\n",
    "    prop_data = {i: '' for i in cat}\n",
    "    key = row['PropertyAddressFull'].lower()\n",
    "    if key in propdict.keys():\n",
    "        prop_data['Use Code'] = str(propdict[key]['USE_CODE_STD_LPS'])\n",
    "        prop_data['Last Sale Date'] = propdict[key]['LAST_SALE_DATE_TRANSFER']\n",
    "        prop_data['Year Built'] = propdict[key]['YR_BLT']\n",
    "        prop_data['APN'] = str(propdict[key]['MASTER_PARCEL_APN'])\n",
    "    else:\n",
    "        key = addr_partial(row)\n",
    "        if key in propdict.keys():\n",
    "            prop_data['Use Code'] = str(propdict[key]['USE_CODE_STD_LPS'])\n",
    "            prop_data['Last Sale Date'] = propdict[key]['LAST_SALE_DATE_TRANSFER']\n",
    "            prop_data['Year Built'] = propdict[key]['YR_BLT']\n",
    "            prop_data['APN'] = str(propdict[key]['MASTER_PARCEL_APN'])\n",
    "    return prop_data"
   ]
  },
  {
   "cell_type": "markdown",
   "metadata": {},
   "source": [
    "Building dictionary of property -> property data (required since the property data files are all for individual counties)"
   ]
  },
  {
   "cell_type": "code",
   "execution_count": null,
   "metadata": {},
   "outputs": [],
   "source": [
    "# this is for the case with the old ATTOM data, multiple counties\n",
    "\n",
    "path = 'use_code_data/*.csv' # replace with own path, only works if all use code data is in one folder with no other .csv files\n",
    "\n",
    "prop_dict = {}\n",
    "\n",
    "key_type = 0\n",
    "for pathname in glob.glob(path):\n",
    "    build_dict(pathname, prop_dict, key_type)"
   ]
  },
  {
   "cell_type": "code",
   "execution_count": null,
   "metadata": {},
   "outputs": [],
   "source": [
    "# for SDGE data, all San Diego county\n",
    "\n",
    "prop_dict = {}\n",
    "\n",
    "build_dict('sandiego.csv', prop_dict, 0)"
   ]
  },
  {
   "cell_type": "markdown",
   "metadata": {},
   "source": [
    "Getting property data"
   ]
  },
  {
   "cell_type": "code",
   "execution_count": null,
   "metadata": {},
   "outputs": [],
   "source": [
    "df = clean_df # or load from rough.csv\n",
    "df.head()"
   ]
  },
  {
   "cell_type": "code",
   "execution_count": null,
   "metadata": {},
   "outputs": [],
   "source": [
    "df['PropertyAddressFull'] = df['PropertyAddressFull'].astype(str)\n",
    "\n",
    "# goes through each permit and pulls the property data from the dictionary\n",
    "df_prop_data = pd.DataFrame(list(df.apply(lambda x: get_prop_data(x, prop_dict), axis=1)))\n",
    "\n",
    "# result\n",
    "new_df = pd.concat([df, df_prop_data], axis=1)\n",
    "new_df.head()"
   ]
  },
  {
   "cell_type": "code",
   "execution_count": null,
   "metadata": {},
   "outputs": [],
   "source": [
    "clean_df = new_df.drop(columns=list(new_df)[0:1])\n",
    "\n",
    "clean_df.head()"
   ]
  },
  {
   "cell_type": "code",
   "execution_count": 103,
   "metadata": {},
   "outputs": [],
   "source": [
    "new_df.to_csv('Permit Mining Results SDGE.csv')"
   ]
  },
  {
   "cell_type": "code",
   "execution_count": null,
   "metadata": {},
   "outputs": [],
   "source": [
    "new_df.info()"
   ]
  }
 ],
 "metadata": {
  "kernelspec": {
   "display_name": "EE443FinalProject",
   "language": "python",
   "name": "python3"
  },
  "language_info": {
   "codemirror_mode": {
    "name": "ipython",
    "version": 3
   },
   "file_extension": ".py",
   "mimetype": "text/x-python",
   "name": "python",
   "nbconvert_exporter": "python",
   "pygments_lexer": "ipython3",
   "version": "3.11.9"
  }
 },
 "nbformat": 4,
 "nbformat_minor": 2
}
