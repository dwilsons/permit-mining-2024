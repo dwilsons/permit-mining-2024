{
 "cells": [
  {
   "cell_type": "code",
   "execution_count": 2,
   "metadata": {},
   "outputs": [],
   "source": [
    "import pandas as pd\n",
    "import glob\n",
    "from math import nan\n",
    "dfd = pd.DataFrame.from_dict"
   ]
  },
  {
   "cell_type": "markdown",
   "metadata": {},
   "source": [
    "Loading Data (permit data here)"
   ]
  },
  {
   "cell_type": "code",
   "execution_count": null,
   "metadata": {},
   "outputs": [],
   "source": [
    "df = pd.read_csv('Permit Mining Results Sept2024.csv') # replace filepath or filename"
   ]
  },
  {
   "cell_type": "code",
   "execution_count": null,
   "metadata": {},
   "outputs": [],
   "source": [
    "df.info()"
   ]
  },
  {
   "cell_type": "code",
   "execution_count": null,
   "metadata": {},
   "outputs": [],
   "source": [
    "# prepares list of upgrade ages, WILL HAVE TO EDIT based on permit data\n",
    "\n",
    "upgrade_types = list(df)[55:85]\n",
    "upgrade_ages = [i + \" age\" for i in upgrade_types]\n",
    "\n",
    "print(upgrade_ages)"
   ]
  },
  {
   "cell_type": "markdown",
   "metadata": {},
   "source": [
    "The purpose of the first section is to prepare the dataframe that contains each property and its corresponding upgrades. Additional information is also pulled from the permit data (county, city, mailing address, and use code). The first cell will work with any set of permits, and the second transfers the permit data to the property dictionary."
   ]
  },
  {
   "cell_type": "code",
   "execution_count": 6,
   "metadata": {},
   "outputs": [],
   "source": [
    "# Function for calculating years since last sale date or age of property.\n",
    "# The only difference is that sale date uses months\n",
    "\n",
    "def get_years(date, month_flag=0):\n",
    "    if len(date) < 4:\n",
    "        return nan\n",
    "    year = float(date[0:4])\n",
    "    if month_flag == 1:\n",
    "        month = date[4:6]\n",
    "        year = year + (float(month) - 1)/12 # months round down\n",
    "    return 2024 - year"
   ]
  },
  {
   "cell_type": "code",
   "execution_count": 7,
   "metadata": {},
   "outputs": [],
   "source": [
    "property_upgrades = {}\n",
    "\n",
    "# to easily switch between addresses and apns as keys if needed\n",
    "key_type = 'APN'\n",
    "first = 'PropertyAddressFull'\n",
    "\n",
    "categories_1 = [\n",
    "    first,\n",
    "    'Permits',\n",
    "    'City',\n",
    "    'CountyName',\n",
    "    'MailingAddress',\n",
    "    'Use Code',\n",
    "    'Last Sale Date',\n",
    "    'Year Built',\n",
    "    'Year Since Last Sale',\n",
    "    'Property Age'\n",
    "    ] \n",
    "\n",
    "categories = categories_1 + upgrade_types + upgrade_ages\n",
    "\n",
    "# This builds up the dictionary of properties->upgrades, which is filled in afterwards\n",
    "for index, row in df.iterrows():\n",
    "    if key_type == 'APN':\n",
    "        prop = str(row[key_type])\n",
    "    else:\n",
    "        prop = str(row[key_type]).lower()\n",
    "    if prop not in property_upgrades.keys():\n",
    "        property_upgrades[prop] = {i: 0 for i in categories}\n",
    "        property_upgrades[prop][first] = row[first]\n",
    "        property_upgrades[prop]['Permits'] = 1\n",
    "        property_upgrades[prop]['City'] = row['PropertyAddressCity']\n",
    "        property_upgrades[prop]['CountyName'] = row['CountyName']\n",
    "        property_upgrades[prop]['MailingAddress'] = row['ContactOwnerMailAddressFull'] \n",
    "        property_upgrades[prop]['Use Code'] = row['Use Code']\n",
    "        property_upgrades[prop]['Last Sale Date'] = row['Last Sale Date']\n",
    "        property_upgrades[prop]['Year Built'] = row['Year Built']\n",
    "        property_upgrades[prop]['Year Since Last Sale'] = get_years(str(row['Last Sale Date']), 1)\n",
    "        property_upgrades[prop]['Property Age'] = get_years(str(row['Year Built']))\n",
    "    else:\n",
    "        property_upgrades[prop]['Permits'] += 1"
   ]
  },
  {
   "cell_type": "code",
   "execution_count": null,
   "metadata": {},
   "outputs": [],
   "source": [
    "# to transfer the data\n",
    "\n",
    "# Needed so this works correctly (note, only for old permit dataset)\n",
    "# df = df.rename(columns={'Heat Pump Water Heater Flag': 'Heat Pump Water Heater', 'Air Source Heat Pump Flag': 'Air Source Heat Pump'})\n",
    "\n",
    "# can be changed to include any already marked upgrade categories\n",
    "old_u = upgrade_types\n",
    "\n",
    "# pulls old upgrade data\n",
    "for index, row in df.iterrows():\n",
    "    if key_type == 'APN':\n",
    "        prop = str(row[key_type])\n",
    "    else:\n",
    "        prop = str(row[key_type]).lower()\n",
    "    for u in old_u:\n",
    "        if row[u] == 1:\n",
    "            property_upgrades[prop][u + ' age'] = row['EffectiveDate']\n",
    "            property_upgrades[prop][u] = 1\n",
    "    if property_upgrades[prop]['Electrical Panel Upgrade'] == 1:\n",
    "        property_upgrades[prop]['Upgrade Amp'] = row['Upgrade Amp']\n",
    "\n",
    "old_result = dfd(property_upgrades, orient='index')\n",
    "old_result.head()"
   ]
  },
  {
   "cell_type": "code",
   "execution_count": 9,
   "metadata": {},
   "outputs": [],
   "source": [
    "# saving data\n",
    "# technically this can be skipped, added as a checkpoint\n",
    "\n",
    "old_result.to_csv('propdata.csv') # set own filepath"
   ]
  },
  {
   "cell_type": "markdown",
   "metadata": {},
   "source": [
    "This section takes upgrade age categories and updates the values to reflect the upgrade age as of 2024 (input data values are the dates of installation)"
   ]
  },
  {
   "cell_type": "code",
   "execution_count": null,
   "metadata": {},
   "outputs": [],
   "source": [
    "df = pd.read_csv('propdata.csv')\n",
    "df = df.set_index('Unnamed: 0')\n",
    "df.info()"
   ]
  },
  {
   "cell_type": "code",
   "execution_count": 11,
   "metadata": {},
   "outputs": [],
   "source": [
    "# select the specific columns that contain time data (might need to edit)\n",
    "upgrade_ages = list(df)[40:70]"
   ]
  },
  {
   "cell_type": "code",
   "execution_count": 12,
   "metadata": {},
   "outputs": [],
   "source": [
    "# This function returns the age of all upgrades present with a given property.\n",
    "# Returns NaN under the following conditions:\n",
    "#   If upgrade is not present\n",
    "#   If upgrade date is not given (in this case the date is marked in PERMIT DATA as 1900-01-01, a placeholder)\n",
    "def get_age(data, time, upgrades):\n",
    "    for upgrade in upgrades:\n",
    "        u = str(data[upgrade])\n",
    "        if u != '0':\n",
    "            u_year = u[0:4]\n",
    "            if u_year == '1900':\n",
    "                data[upgrade] = nan\n",
    "            else:\n",
    "                u_month = u[5:7]\n",
    "                u_month_frac = (float(u_month) - 1)/12\n",
    "                u_time = float(u_year) + u_month_frac\n",
    "                age = time - u_time\n",
    "                age = round(age, 3)\n",
    "                data[upgrade] = str(age)\n",
    "        else:\n",
    "            data[upgrade] = nan"
   ]
  },
  {
   "cell_type": "code",
   "execution_count": null,
   "metadata": {},
   "outputs": [],
   "source": [
    "# data \n",
    "data = df.to_dict(orient='index')\n",
    "\n",
    "time = 2024\n",
    "\n",
    "# update data\n",
    "for property in data.keys():\n",
    "    p_data = data[property]\n",
    "    get_age(p_data, time, upgrade_ages)\n",
    "\n",
    "new_df = dfd(data, orient='index')\n",
    "new_df.head()"
   ]
  },
  {
   "cell_type": "code",
   "execution_count": 14,
   "metadata": {},
   "outputs": [],
   "source": [
    "new_df.to_csv(\"property_upgrade_data_final.csv\")"
   ]
  },
  {
   "cell_type": "markdown",
   "metadata": {},
   "source": [
    "The purpose of the next section is to separate the properties based on their use code into Single Family (SF), Two to Four Family (twofour), Five+ Family (fiveplus), and commercial properties (comm). It does this with address OR APN, depending on user instruction. There is also a simple version which splits based on use code, because as of Sept 2024 property use codes have been added to the main permit data file, and are save above."
   ]
  },
  {
   "cell_type": "markdown",
   "metadata": {},
   "source": [
    "Loading data (property data here)"
   ]
  },
  {
   "cell_type": "code",
   "execution_count": null,
   "metadata": {},
   "outputs": [],
   "source": [
    "data = pd.read_csv('property_upgrade_data_final.csv')\n",
    "data.info()"
   ]
  },
  {
   "cell_type": "code",
   "execution_count": null,
   "metadata": {},
   "outputs": [],
   "source": [
    "data = data.rename(columns={'Unnamed: 0': 'APN'})\n",
    "data.head()"
   ]
  },
  {
   "cell_type": "code",
   "execution_count": 6,
   "metadata": {},
   "outputs": [],
   "source": [
    "# Functions\n",
    "\n",
    "# Function to connect all address parts into a single string for comparison since\n",
    "# permit data contains full addresses but use code data does not. Takes row (property) as input,\n",
    "# returns address (in lowercase) as a string. Not necessary now that use codes are in permit data,\n",
    "# but kept for completeness\n",
    "def addr_full(row):\n",
    "    address = ''\n",
    "    number = str(row['SITE_HOUSE_NUMBER'])\n",
    "    direction = str(row['SITE_DIRECTION'])\n",
    "    street = str(row['SITE_STREET_NAME'])\n",
    "    mode = str(row['SITE_MODE'])\n",
    "    if number != 'nan':\n",
    "        index = number.find('.')\n",
    "        if index != -1:\n",
    "            number = number[:index]\n",
    "        address += number\n",
    "    if direction != 'nan':\n",
    "        address = address + ' ' + direction\n",
    "    if street != 'nan':\n",
    "        address = address + ' ' + street\n",
    "    if mode != 'nan':\n",
    "        address = address + ' ' + mode\n",
    "    return address.lower()\n",
    "\n",
    "# Builds dictionaries for each property category. Needed because property use code data is separated\n",
    "# by county. Takes pathname to use code data, dictionary to fill, and set of use codes.\n",
    "def build_dict(pathname, prop_dict, use_codes, version):\n",
    "    county_df = pd.read_csv(pathname)\n",
    "    props = county_df[county_df['USE_CODE_STD_LPS'].isin(use_codes)]\n",
    "    for index, row in props.iterrows():\n",
    "        if version == 0:\n",
    "            address = addr_full(row)\n",
    "            prop_dict[address] = row\n",
    "        elif version == 1:\n",
    "            prop_dict[row['MASTER_PARCEL_APN']] = row\n",
    "\n",
    "# Special function for separating 2-4 props from 5+ props within set of 3 overlapping use codes. Uses number\n",
    "# of units to make decision. Essentially the same as build_dict but also takes user input for prop_type where type 1\n",
    "# corresponds to 2-4 MF and type 2 corresponds to 5+ MF.\n",
    "def fivefour(pathname, overlap, prop_dict, version, prop_type):\n",
    "    county_df = pd.read_csv(pathname)\n",
    "    props = county_df[county_df['USE_CODE_STD_LPS'].isin(overlap)]\n",
    "    for index, row in props.iterrows():\n",
    "        num_units = row['UNITS_NUMBER']\n",
    "        if prop_type == 1:\n",
    "            if num_units < 5:\n",
    "                if version == 0:\n",
    "                    address = addr_full(row)\n",
    "                    prop_dict[address] = row\n",
    "                elif version == 1:\n",
    "                    prop_dict[row['MASTER_PARCEL_APN']] = row\n",
    "        elif prop_type == 2:\n",
    "            if num_units >= 5:\n",
    "                if version == 0:\n",
    "                    address = addr_full(row)\n",
    "                    prop_dict[address] = row\n",
    "                elif version == 1:\n",
    "                    prop_dict[row['MASTER_PARCEL_APN']] = row"
   ]
  },
  {
   "cell_type": "markdown",
   "metadata": {},
   "source": [
    "For the complicated version: first address->site data or apn->site data pairs are added to use code dictionaries, then in the following cell specific use code property upgrade data sets are extracted\n",
    "\n",
    "For the simple version, the use code sets can be used directly (provided below), with the exception of the overlap set"
   ]
  },
  {
   "cell_type": "code",
   "execution_count": null,
   "metadata": {},
   "outputs": [],
   "source": [
    "# this cell constructs the property type dictionaries with all corresponding property information\n",
    "\n",
    "path = 'use_code_data/*.csv' # replace with own path, only works if all use code data is in one folder with no other .csv files\n",
    "\n",
    "# use code sets\n",
    "sf_use_codes = {1000, 1001, 1006, 1008, 1009, 1010, 1011, 1012, 1014, 1015, 1016, 1109}\n",
    "twofour_use_codes = {1002, 1003, 1004, 1005, 1101, 1102, 1103, 1108}\n",
    "five_use_codes = {1104, 1105, 1107, 1108, 1111, 1113, 9106, 9217}\n",
    "commercial_use_codes = {2000, 2001, 2003, 2004, 2006, 2007, 2008, 2009, 2010, 2011, 2012, 2013, 2014, 2015, 2016, 2018, 2019, 2020,\n",
    "                        2021, 2023, 2024, 2025, 2026, 2027, 2028, 2029, 2031, 2032, 2033, 2034, 2035, 2036, 2037, 2039, 2040, 2041, \n",
    "                        2042, 2043, 2044, 2045, 2046, 2047, 2048, 2050, 2051, 2052, 2054, 2058, 3000, 3001, 3002, 3003, 3004, 3005,\n",
    "                        3006, 3007, 3008, 3010, 3011, 4000, 4001, 4002, 4003, 4004, 4006, 4007, 4008, 4009, 4010, 4011, 4012, 4013, \n",
    "                        4014, 4015, 4016, 4017, 4018, 4020, 4021, 4022, 4024, 4025, 4026, 4027, 4028, 4029, 4031, 4032, 5003, 6002,\n",
    "                        9101, 9200, 9213, 9210, 9203, 9102, 9212, 9211, 9108, 9104, 9204, 9215, 9207, 9110, 9103, 9208, 9100, 9109,\n",
    "                        9111, 9205, 9219, 9201, 9105, 9218, 9206, 9214}\n",
    "\n",
    "# special use codes where 2-4 and 5+ MF overlap\n",
    "overlap = {1100, 1110, 1112}\n",
    "\n",
    "sf_dict = {}\n",
    "twofour_dict = {}\n",
    "five_dict = {}\n",
    "comm_dict = {}\n",
    "\n",
    "use_codes = [sf_use_codes, twofour_use_codes, five_use_codes, commercial_use_codes, overlap]\n",
    "dicts = [sf_dict, twofour_dict, five_dict, comm_dict]\n",
    "\n",
    "# note: 0 is for using addresses, 1 is for using APN\n",
    "key_type = 1\n",
    "for i in range(1, 3): # set right now to only build multifamily dictionaries because sf and comm aren't needed\n",
    "    codes = use_codes[i]\n",
    "    curr_dict = dicts[i]\n",
    "    for pathname in glob.glob(path):\n",
    "        build_dict(pathname, curr_dict, codes, key_type)\n",
    "        if i in [1, 2]: # accounting for overlapping use codes\n",
    "            fivefour(pathname, use_codes[4], curr_dict, key_type, i)"
   ]
  },
  {
   "cell_type": "code",
   "execution_count": 8,
   "metadata": {},
   "outputs": [],
   "source": [
    "# property data for single family & commericial\n",
    "\n",
    "sf_data = data[data['Use Code'].isin(sf_use_codes)]\n",
    "comm_data = data[data['Use Code'].isin(commercial_use_codes)]\n",
    "\n",
    "# property data for multifamily homes (needs dictionaries because of overlapping use codes)\n",
    "\n",
    "twofour_data = data[data['APN'].isin(twofour_dict.keys())]\n",
    "fiveplus_data = data[data['APN'].isin(five_dict.keys())]"
   ]
  },
  {
   "cell_type": "code",
   "execution_count": null,
   "metadata": {},
   "outputs": [],
   "source": [
    "fiveplus_data.head()"
   ]
  },
  {
   "cell_type": "code",
   "execution_count": 13,
   "metadata": {},
   "outputs": [],
   "source": [
    "sf_data.to_csv('SF_property_data.csv')\n",
    "twofour_data.to_csv('MF2-4_property_data.csv')\n",
    "fiveplus_data.to_csv('MF5plus_property_data.csv')\n",
    "comm_data.to_csv('COMM_property_data.csv')"
   ]
  },
  {
   "cell_type": "markdown",
   "metadata": {},
   "source": [
    "The next section is for upgrade timing, where upgrade information is updated with the time difference between either the year the property was built OR the year/month when the property was last purchased (chosen by user).\n",
    "\n",
    "UPDATE: No longer used, now the upgrade ages have their own categories, ages are calculated in next section, left here for completeness"
   ]
  },
  {
   "cell_type": "code",
   "execution_count": 12,
   "metadata": {},
   "outputs": [],
   "source": [
    "sf_data.to_csv('sfbin_fixed.csv')"
   ]
  },
  {
   "cell_type": "code",
   "execution_count": null,
   "metadata": {},
   "outputs": [],
   "source": [
    "sf_data = pd.read_csv('sf_utime.csv')\n",
    "# twofour_data = pd.read_csv('twofour_utime.csv')\n",
    "# five_data = pd.read_csv('five_utime.csv')\n",
    "# comm_data = pd.read_csv('comm_utime.csv')\n",
    "sf_data.head()"
   ]
  },
  {
   "cell_type": "code",
   "execution_count": null,
   "metadata": {},
   "outputs": [],
   "source": [
    "data = sf_data\n",
    "data = data.rename(columns={'Unnamed: 0': 'Last Purchase Date'})\n",
    "data = data.set_index('Address')\n",
    "data.head()"
   ]
  },
  {
   "cell_type": "code",
   "execution_count": null,
   "metadata": {},
   "outputs": [],
   "source": [
    "# adds a couple of columns that now necessary\n",
    "\n",
    "data['Year Built'] = pd.Series(dtype=int)\n",
    "data['Zip'] = pd.Series(dtype=str)\n",
    "data.head()"
   ]
  },
  {
   "cell_type": "code",
   "execution_count": 41,
   "metadata": {},
   "outputs": [],
   "source": [
    "# Functions\n",
    "\n",
    "# Gets the difference in times (upgrade vs. either sale date or year built, version chosen with v where 1=sale date).\n",
    "# Difference is returned as years with a decimal component as to be convenient for computation.\n",
    "# Returns NaN under the following circumstances:\n",
    "#   If earier date is not present\n",
    "#   If upgrade date is earlier than \"earlier\" date (applies to sale date case)\n",
    "#   If property last sale date is NaN (in the sale date case)\n",
    "def get_time(u, o, v):\n",
    "\n",
    "    if o:\n",
    "        # process u\n",
    "        u_year = u[0:4]\n",
    "        u_month = u[5:7]\n",
    "        u_month_frac = (float(u_month) - 1)/12\n",
    "        u_time = float(u_year) + u_month_frac\n",
    "\n",
    "        # process o\n",
    "        if v == 1:\n",
    "            if str(o) != 'n':\n",
    "                o_year = o[0:4]\n",
    "                o_month = u[4:6]\n",
    "                o_month_frac = (float(o_month) - 1)/12\n",
    "                o_time = float(o_year) + o_month_frac\n",
    "            else:\n",
    "                o_time = nan\n",
    "        else:\n",
    "            o_time = o\n",
    "\n",
    "        # compare\n",
    "        if u_time > o_time:\n",
    "            time = u_time - o_time\n",
    "        else:\n",
    "            time = nan\n",
    "\n",
    "        return time\n",
    "    else:\n",
    "        return nan\n",
    "\n",
    "# goes through each upgrade and, if it is present, replaces upgrade date with time\n",
    "def update_times(data, row, address, og_date, version):\n",
    "    \n",
    "    upgrades = [\n",
    "        'Heat Pump Water Heater',\n",
    "        'Air Source Heat Pump',\n",
    "        'Solar PV',\n",
    "        'Battery storage',\n",
    "        'Electric Vehicle Charger',\n",
    "        'Electrical Panel Upgrade',\n",
    "        'Transformer',\n",
    "        'Water Heater',\n",
    "        'Cool Roof',\n",
    "        'Kitchen Remodel',\n",
    "        'Bathroom Remodel',\n",
    "        'Other Remodel',\n",
    "        'AC',\n",
    "        'Reroof',\n",
    "        'Spa/Pool',\n",
    "        'Addition',\n",
    "        'Lighting Install',\n",
    "        'Wall Heater',\n",
    "        'Tankless Water Heater'\n",
    "    ]\n",
    "\n",
    "    for upgrade in upgrades:\n",
    "        upgrade_date = str(row[upgrade])\n",
    "        if upgrade_date != '0':\n",
    "            time = get_time(upgrade_date, og_date, version)\n",
    "            if time:\n",
    "                time = round(time, 3)\n",
    "            data[address][upgrade] = time\n",
    "        else: # sets all 0s to NaNs because while 0 is fine for the boolean upgrade data, it is a problem for computation\n",
    "            data[address][upgrade] = nan"
   ]
  },
  {
   "cell_type": "code",
   "execution_count": 42,
   "metadata": {},
   "outputs": [],
   "source": [
    "# goes through property upgrade data to update the data\n",
    "\n",
    "f = data.to_dict(orient='index')\n",
    "curr_dict = sf_dict.copy()\n",
    "\n",
    "for address in f.keys():\n",
    "    \n",
    "    # getting last date of sale from use code data and adding to main frame\n",
    "    pre_date = str(curr_dict[address]['LAST_SALE_DATE_TRANSFER'])\n",
    "    pre_date = pre_date[:len(pre_date)-2]\n",
    "    fin_date = pre_date[0:4] + '-' + pre_date[4:6] + '-' + pre_date[6:8]\n",
    "    if fin_date == 'n--':\n",
    "        f[address]['Last Purchase Date'] = nan\n",
    "    else:\n",
    "        f[address]['Last Purchase Date'] = fin_date\n",
    "\n",
    "    # getting year built from use code data and adding to main frame\n",
    "    yr_blt = curr_dict[address]['YR_BLT']\n",
    "    if yr_blt:\n",
    "        f[address]['Year Built'] = yr_blt\n",
    "    else:\n",
    "        f[address]['Year Built'] = nan\n",
    "    \n",
    "    # updating times for all upgrades, uncomment the desired version\n",
    "    # update_times(f, f[address], address, yr_blt, 0)\n",
    "    update_times(f, f[address], address, pre_date, 1)\n",
    "\n",
    "    # adds zip code\n",
    "    Zip = str(curr_dict[address]['SITE_ZIP'])\n",
    "    f[address]['Zip'] = Zip[:len(Zip)-2]"
   ]
  },
  {
   "cell_type": "code",
   "execution_count": null,
   "metadata": {},
   "outputs": [],
   "source": [
    "f_data_new = dfd(f, orient='index')\n",
    "f_data_new.head()"
   ]
  },
  {
   "cell_type": "code",
   "execution_count": 44,
   "metadata": {},
   "outputs": [],
   "source": [
    "f_data_new.to_csv('sf_u_tenure.csv')"
   ]
  }
 ],
 "metadata": {
  "kernelspec": {
   "display_name": "Python 3",
   "language": "python",
   "name": "python3"
  },
  "language_info": {
   "codemirror_mode": {
    "name": "ipython",
    "version": 3
   },
   "file_extension": ".py",
   "mimetype": "text/x-python",
   "name": "python",
   "nbconvert_exporter": "python",
   "pygments_lexer": "ipython3",
   "version": "3.11.9"
  }
 },
 "nbformat": 4,
 "nbformat_minor": 2
}
