{
 "cells": [
  {
   "cell_type": "code",
   "execution_count": 1,
   "metadata": {},
   "outputs": [],
   "source": [
    "import numpy as np\n",
    "import pandas as pd\n",
    "import scipy as sp\n",
    "import matplotlib.pyplot as plt\n",
    "import sklearn as sk\n",
    "import seaborn as sb\n",
    "\n",
    "from math import nan\n",
    "from collections import Counter\n",
    "\n",
    "dfd = pd.DataFrame.from_dict"
   ]
  },
  {
   "cell_type": "markdown",
   "metadata": {},
   "source": [
    "Loading data"
   ]
  },
  {
   "cell_type": "code",
   "execution_count": null,
   "metadata": {},
   "outputs": [],
   "source": [
    "df = pd.read_csv('SDGEPropertyUpgradeData.csv') # replace with own filepath\n",
    "df = df.set_index('Unnamed: 0')\n",
    "df.head()\n",
    "\n",
    "# note: will need to select only the time series data"
   ]
  },
  {
   "cell_type": "markdown",
   "metadata": {},
   "source": [
    "Overall descriptive stats (uncomment whichever one)"
   ]
  },
  {
   "cell_type": "code",
   "execution_count": null,
   "metadata": {},
   "outputs": [],
   "source": [
    "#df[list(df)[4:]].mean(0)\n",
    "df[list(df)[4:]].median(0)"
   ]
  },
  {
   "cell_type": "markdown",
   "metadata": {},
   "source": [
    "Relative Statistics: here a specific upgrade is selected to analyze how its installation corresponds with that of other upgrades"
   ]
  },
  {
   "cell_type": "code",
   "execution_count": null,
   "metadata": {},
   "outputs": [],
   "source": [
    "# selecting portion of data containing the upgrade in question\n",
    "\n",
    "u = 'Electrical Panel Upgrade'\n",
    "sub_df = df[df[u].notnull()]\n",
    "#sub_df = sub_df[~sub_df['Solar PV'].notnull()]\n",
    "sub_df.head()"
   ]
  },
  {
   "cell_type": "code",
   "execution_count": 4,
   "metadata": {},
   "outputs": [],
   "source": [
    "# This function takes all the time data for a properties upgrades and centers it on the upgrade of interest\n",
    "# so the ages become ages relative to the upgrade of interest. A negative number implies an upgrade was installed after,\n",
    "# while positive implies prior.\n",
    "def center(row, zero, upgrades):\n",
    "    val = float(row[zero])\n",
    "    for upgrade in upgrades:\n",
    "        u = row[upgrade]\n",
    "        if u:\n",
    "            age = float(u)\n",
    "            centered_age = age - val\n",
    "            row[upgrade] = centered_age"
   ]
  },
  {
   "cell_type": "code",
   "execution_count": null,
   "metadata": {},
   "outputs": [],
   "source": [
    "# centering data\n",
    "\n",
    "data = sub_df.to_dict(orient='index')\n",
    "\n",
    "zero = u\n",
    "upgrades = list(df)[4:] # pull the section of the dataframe that contains upgrade ages, will need to change\n",
    "\n",
    "for p in data.keys():\n",
    "    prop = data[p]\n",
    "    center(prop, zero, upgrades)\n",
    "\n",
    "c_df = dfd(data, orient='index')\n",
    "c_df.head()"
   ]
  },
  {
   "cell_type": "code",
   "execution_count": null,
   "metadata": {},
   "outputs": [],
   "source": [
    "# pulling only the time series data (numeric data)\n",
    "\n",
    "df_data = c_df[list(c_df)[4:]] # will need to change based on new property data format\n",
    "df_data.head()"
   ]
  },
  {
   "cell_type": "code",
   "execution_count": 123,
   "metadata": {},
   "outputs": [],
   "source": [
    "# for if you want all descriptive data as csv\n",
    "\n",
    "#df_data.mean(0)\n",
    "epu_rl = df_data.describe()\n",
    "epu_rl.to_csv('EPU Relative Age Data.csv')"
   ]
  },
  {
   "cell_type": "code",
   "execution_count": null,
   "metadata": {},
   "outputs": [],
   "source": [
    "# this cell plots the distribution of relative ages, currently set up to plot the distributions\n",
    "# of two upgrades relative to the upgrade of interest\n",
    "\n",
    "u_other_1 = 'Kitchen Remodel'\n",
    "u_other_2 = 'Bathroom Remodel'\n",
    "other_1 = df_data[df_data[u_other_1].notnull()]\n",
    "other_2 = df_data[df_data[u_other_2].notnull()]\n",
    "#other_sub = other[(other[u_other] >= -1) & (other[u_other] <= 14)]\n",
    "o_relative_age_1 = list(other_1[u_other_1])\n",
    "o_relative_age_2 = list(other_2[u_other_2])\n",
    "sb.displot({u_other_1: o_relative_age_1, u_other_2: o_relative_age_2}, bins=30)"
   ]
  },
  {
   "cell_type": "markdown",
   "metadata": {},
   "source": [
    "The next section is for checking overall distribution of upgrades by year, does require different data format where time series data is set to contain the date of installation"
   ]
  },
  {
   "cell_type": "code",
   "execution_count": null,
   "metadata": {},
   "outputs": [],
   "source": [
    "df = pd.read_csv('sf_utime.csv')\n",
    "df.head()"
   ]
  },
  {
   "cell_type": "code",
   "execution_count": 12,
   "metadata": {},
   "outputs": [],
   "source": [
    "u1 = 'Kitchen Remodel'\n",
    "u2 = 'Bathroom Remodel'\n",
    "e = 'Electrical Panel Upgrade'\n",
    "\n",
    "solar = df[df[u1] != '0']\n",
    "solar = solar[u1].apply(lambda x: x[0:4])\n",
    "\n",
    "epu = df[df[e] != '0']\n",
    "epu = epu[e].apply(lambda x: x[0:4])\n",
    "\n",
    "ou = df[df[u2] != '0']\n",
    "ou = ou[u2].apply(lambda x: x[0:4])"
   ]
  },
  {
   "cell_type": "code",
   "execution_count": null,
   "metadata": {},
   "outputs": [],
   "source": [
    "s_data = [int(i) for i in list(solar) if i != '1900']\n",
    "e_data = [int(i) for i in list(epu) if i != '1900']\n",
    "u_data = [int(i) for i in list(ou) if i != '1900']\n",
    "#sub_solar_data = [i for i in s_data if i >= 1980]\n",
    "sb.displot({'Electrical Panel Upgrades': e_data, u1: s_data, u2: u_data}, binwidth=2)"
   ]
  },
  {
   "cell_type": "markdown",
   "metadata": {},
   "source": [
    "With Property Age"
   ]
  },
  {
   "cell_type": "code",
   "execution_count": null,
   "metadata": {},
   "outputs": [],
   "source": [
    "df = pd.read_csv('sf_time_final.csv')\n",
    "df.head()"
   ]
  },
  {
   "cell_type": "code",
   "execution_count": null,
   "metadata": {},
   "outputs": [],
   "source": [
    "data_df = df[list(df)[5:len(list(df))-2]]\n",
    "data_df.head()"
   ]
  },
  {
   "cell_type": "code",
   "execution_count": null,
   "metadata": {},
   "outputs": [],
   "source": [
    "# data_df.mean(0)\n",
    "data_df.median(0)\n",
    "# data_df.describe()"
   ]
  },
  {
   "cell_type": "code",
   "execution_count": null,
   "metadata": {},
   "outputs": [],
   "source": [
    "u = 'Electrical Panel Upgrade'\n",
    "sub_df = df[df[u].notnull()]\n",
    "sub_df.head()"
   ]
  },
  {
   "cell_type": "code",
   "execution_count": null,
   "metadata": {},
   "outputs": [],
   "source": [
    "yr_blt = list(sub_df['Year Built'])\n",
    "yr_blt_s = [i for i in yr_blt if i >= 1960]\n",
    "sb.displot(yr_blt, binwidth=4)\n",
    "sb.displot(yr_blt_s, binwidth=1, kde=True)\n",
    "sb.displot(yr_blt, kind='ecdf')\n"
   ]
  },
  {
   "cell_type": "code",
   "execution_count": null,
   "metadata": {},
   "outputs": [],
   "source": [
    "all_years = list(df['Year Built'])\n",
    "year_data = Counter(all_years)\n",
    "epu_year_data = Counter(yr_blt)\n",
    "\n",
    "likelihoods = [epu_year_data[year]/year_data[year] for year in year_data.keys()]\n",
    "years = list(year_data.keys())\n",
    "years.sort()\n",
    "print(years)"
   ]
  },
  {
   "cell_type": "code",
   "execution_count": 23,
   "metadata": {},
   "outputs": [],
   "source": [
    "year_data = {i: 0 for i in range(1900, 2024)}\n",
    "epu_year_data = {i: 0 for i in range(1900, 2024)}\n",
    "\n",
    "for year in all_years:\n",
    "    if year in year_data.keys():\n",
    "        year_data[year] += 1\n",
    "\n",
    "# to handle divide by zero error\n",
    "for year in year_data.keys():\n",
    "    if year_data[year] == 0:\n",
    "        year_data[year] += 1\n",
    "\n",
    "for year in yr_blt:\n",
    "    if year in epu_year_data.keys():\n",
    "        epu_year_data[year] += 1"
   ]
  },
  {
   "cell_type": "code",
   "execution_count": null,
   "metadata": {},
   "outputs": [],
   "source": [
    "print(epu_year_data)\n",
    "print(year_data)"
   ]
  },
  {
   "cell_type": "code",
   "execution_count": null,
   "metadata": {},
   "outputs": [],
   "source": [
    "p = [epu_year_data[year]/year_data[year] for year in range(1900, 2024)]\n",
    "print(p)"
   ]
  },
  {
   "cell_type": "code",
   "execution_count": null,
   "metadata": {},
   "outputs": [],
   "source": [
    "x = np.arange(1900, 2024)\n",
    "\n",
    "plt.figure(figsize=(10, 8))\n",
    "plt.plot(x, p)\n",
    "plt.xlabel(\"Year Built\")\n",
    "plt.ylabel(\"Proportion of Homes with Electrical Panel Upgrade\")\n",
    "plt.title(\"Likelihood of Electrical Panel Upgrade vs. Year Home Built\")"
   ]
  },
  {
   "cell_type": "code",
   "execution_count": null,
   "metadata": {},
   "outputs": [],
   "source": [
    "df_sd = pd.read_csv('sf_u_tenure.csv')\n",
    "df_sd.head()"
   ]
  },
  {
   "cell_type": "code",
   "execution_count": null,
   "metadata": {},
   "outputs": [],
   "source": [
    "data_df = df_sd[list(df_sd)[5:len(list(df_sd))-2]]\n",
    "#print(data_df.mean(0))\n",
    "print(data_df.median(0))\n"
   ]
  },
  {
   "cell_type": "code",
   "execution_count": null,
   "metadata": {},
   "outputs": [],
   "source": [
    "e = 'Electrical Panel Upgrade'\n",
    "u = 'Bathroom Remodel'\n",
    "\n",
    "epu_upgrades = data_df[data_df[e].notnull()]\n",
    "epu_data_t = epu_upgrades[e]\n",
    "edt_s = [i for i in epu_data_t if i <= 5]\n",
    "edt_xs = [i for i in edt_s if i <= 2]\n",
    "other_upgrades = data_df[data_df[u].notnull()]\n",
    "odt = other_upgrades[u]\n",
    "odt_s = [i for i in odt if i <= 5]\n",
    "\n",
    "sb.displot({e: epu_data_t, u: odt}, binwidth=1)\n",
    "sb.displot({e: edt_s, u: odt_s}, binwidth=0.25)\n",
    "sb.displot(edt_xs, bins=12)\n",
    "# sb.displot(edt_sm, binwidth=2)"
   ]
  },
  {
   "cell_type": "code",
   "execution_count": null,
   "metadata": {},
   "outputs": [],
   "source": [
    "epu_upgrades_full = df_sd[df_sd[u].notnull()]\n",
    "epu_upgrades_full.head()"
   ]
  },
  {
   "cell_type": "code",
   "execution_count": null,
   "metadata": {},
   "outputs": [],
   "source": [
    "sub = epu_upgrades_full[(epu_upgrades_full[e] <= 5) & (epu_upgrades_full['Year Built'] >= 1900)]\n",
    "\n",
    "from_sale = list(sub[e])\n",
    "yb = list(sub['Year Built'])\n",
    "\n",
    "sb.displot(x=from_sale, y=yb, binwidth=(2, 5))\n",
    "sb.displot(x=from_sale, y=yb, kind='kde')"
   ]
  }
 ],
 "metadata": {
  "kernelspec": {
   "display_name": "EE443FinalProject",
   "language": "python",
   "name": "python3"
  },
  "language_info": {
   "codemirror_mode": {
    "name": "ipython",
    "version": 3
   },
   "file_extension": ".py",
   "mimetype": "text/x-python",
   "name": "python",
   "nbconvert_exporter": "python",
   "pygments_lexer": "ipython3",
   "version": "3.11.9"
  }
 },
 "nbformat": 4,
 "nbformat_minor": 2
}
